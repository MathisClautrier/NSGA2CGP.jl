{
 "cells": [
  {
   "cell_type": "code",
   "execution_count": 2,
   "metadata": {},
   "outputs": [],
   "source": [
    "import pandas as pd\n",
    "%matplotlib inline \n",
    "import matplotlib.pyplot as plt"
   ]
  },
  {
   "cell_type": "code",
   "execution_count": 3,
   "metadata": {},
   "outputs": [],
   "source": [
    "data = pd.read_csv(\"../logs/2020-10-16T13:48:00.924.csv\",names=[\"Date\",\"Pkg\",\"Info\",\"Num\",\"Max\",\"Mean\",\"Std\"])"
   ]
  },
  {
   "cell_type": "code",
   "execution_count": 4,
   "metadata": {},
   "outputs": [],
   "source": [
    "m=data.shape[0]"
   ]
  },
  {
   "cell_type": "code",
   "execution_count": 5,
   "metadata": {},
   "outputs": [],
   "source": [
    "cent=[[],[],[]]\n",
    "fros=[[],[],[]]\n",
    "pacm=[[],[],[]]"
   ]
  },
  {
   "cell_type": "code",
   "execution_count": 6,
   "metadata": {},
   "outputs": [],
   "source": [
    "for i in range(m//3):\n",
    "    x=data[data[\"Num\"]==i+1].values\n",
    "    cent[0].append(x[0][4])\n",
    "    cent[1].append(x[0][5])\n",
    "    cent[2].append(x[0][6])\n",
    "    fros[0].append(x[1][4])\n",
    "    fros[1].append(x[1][5])\n",
    "    fros[2].append(x[1][6])\n",
    "    pacm[0].append(x[2][4])\n",
    "    pacm[1].append(x[2][5])\n",
    "    pacm[2].append(x[2][6])\n",
    "    \n",
    "    "
   ]
  },
  {
   "cell_type": "code",
   "execution_count": 7,
   "metadata": {},
   "outputs": [
    {
     "data": {
      "text/plain": [
       "45"
      ]
     },
     "execution_count": 7,
     "metadata": {},
     "output_type": "execute_result"
    }
   ],
   "source": [
    "len(cent[0])"
   ]
  },
  {
   "cell_type": "code",
   "execution_count": 8,
   "metadata": {},
   "outputs": [
    {
     "data": {
      "text/plain": [
       "Text(0.5, 1.0, 'Mean')"
      ]
     },
     "execution_count": 8,
     "metadata": {},
     "output_type": "execute_result"
    },
    {
     "data": {
      "image/png": "[encoded data removed]",
      "text/plain": [
       "<Figure size 1080x360 with 6 Axes>"
      ]
     },
     "metadata": {
      "needs_background": "light"
     },
     "output_type": "display_data"
    }
   ],
   "source": [
    "fig, ax = plt.subplots(nrows=2,ncols=3,figsize=(15,5))\n",
    "ax[0,0].plot(cent[0],'b.')\n",
    "ax[1,0].plot(cent[1],'b.')\n",
    "ax[0,1].plot(fros[0],'b.')\n",
    "ax[1,1].plot(fros[1],'b.')\n",
    "ax[0,2].plot(pacm[0],'b.')\n",
    "ax[1,2].plot(pacm[1],'b.')\n",
    "ax[0,0].set_title(\"Max\")\n",
    "ax[1,0].set_title(\"Mean\")\n",
    "ax[0,1].set_title(\"Max\")\n",
    "ax[1,1].set_title(\"Mean\")\n",
    "ax[0,2].set_title(\"Max\")\n",
    "ax[1,2].set_title(\"Mean\")"
   ]
  },
  {
   "cell_type": "code",
   "execution_count": 9,
   "metadata": {},
   "outputs": [],
   "source": [
    "x=[[cent[0][i],fros[0][i],pacm[0][i]] for i in range(45)]"
   ]
  },
  {
   "cell_type": "code",
   "execution_count": 10,
   "metadata": {},
   "outputs": [],
   "source": [
    "def dominates(ind1,ind2):\n",
    "    dom=False\n",
    "    for i in range(3):\n",
    "        if ind1[i]<ind2[i]:\n",
    "            return False\n",
    "        elif ind1[i]>ind2[i]:\n",
    "            dom=True\n",
    "    return dom"
   ]
  },
  {
   "cell_type": "code",
   "execution_count": 11,
   "metadata": {},
   "outputs": [],
   "source": [
    "L=[]\n",
    "L2=[]\n",
    "for j in range(len(x)-1):\n",
    "    if dominates(x[j],x[j+1]):\n",
    "        L.append(j)\n",
    "    elif dominates(x[j+1],x[j]):\n",
    "        L2.append(j)"
   ]
  },
  {
   "cell_type": "code",
   "execution_count": 12,
   "metadata": {},
   "outputs": [
    {
     "data": {
      "text/plain": [
       "[0, 2, 4, 5, 10, 14, 15, 21, 22, 23, 25, 28, 29, 30, 34, 36, 38, 42, 43]"
      ]
     },
     "execution_count": 12,
     "metadata": {},
     "output_type": "execute_result"
    }
   ],
   "source": [
    "L"
   ]
  },
  {
   "cell_type": "code",
   "execution_count": 13,
   "metadata": {},
   "outputs": [
    {
     "data": {
      "text/plain": [
       "[1, 3, 6, 8, 9, 11, 12, 13, 17, 18, 24, 26, 27, 33, 35, 37, 40, 41]"
      ]
     },
     "execution_count": 13,
     "metadata": {},
     "output_type": "execute_result"
    }
   ],
   "source": [
    "L2"
   ]
  },
  {
   "cell_type": "code",
   "execution_count": null,
   "metadata": {},
   "outputs": [],
   "source": []
  }
 ],
 "metadata": {
  "kernelspec": {
   "display_name": "Python 3",
   "language": "python",
   "name": "python3"
  },
  "language_info": {
   "codemirror_mode": {
    "name": "ipython",
    "version": 3
   },
   "file_extension": ".py",
   "mimetype": "text/x-python",
   "name": "python",
   "nbconvert_exporter": "python",
   "pygments_lexer": "ipython3",
   "version": "3.8.5"
  }
 },
 "nbformat": 4,
 "nbformat_minor": 4
}
